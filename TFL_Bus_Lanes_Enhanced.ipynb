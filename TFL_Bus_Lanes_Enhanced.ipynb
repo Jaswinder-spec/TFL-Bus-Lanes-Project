{
 "cells": [
  {
   "cell_type": "markdown",
   "id": "fa8e0030",
   "metadata": {},
   "source": [
    "# TFL Bus Lanes Project\n",
    "This notebook explores the Transport for London (TFL) bus lanes dataset. It includes data loading, cleaning, and visualizations to gain insights into the distribution and characteristics of bus lanes across boroughs."
   ]
  },
  {
   "cell_type": "code",
   "execution_count": null,
   "id": "59265733",
   "metadata": {},
   "outputs": [],
   "source": [
    "import pandas as pd\n",
    "import matplotlib.pyplot as plt\n",
    "import seaborn as sns\n",
    "%matplotlib inline\n",
    "sns.set_style('whitegrid')"
   ]
  },
  {
   "cell_type": "markdown",
   "id": "3be3be6d",
   "metadata": {},
   "source": [
    "### Load the Dataset\n",
    "Make sure to include the `Bus_Lanes.csv` file in your project directory or provide a valid path."
   ]
  },
  {
   "cell_type": "code",
   "execution_count": null,
   "id": "bfc8f3a7",
   "metadata": {},
   "outputs": [],
   "source": [
    "df = pd.read_csv('Bus_Lanes.csv')\n",
    "df.head()"
   ]
  },
  {
   "cell_type": "markdown",
   "id": "a5248e48",
   "metadata": {},
   "source": [
    "### Data Cleaning and Preprocessing\n",
    "Let's check for missing values and clean the dataset."
   ]
  },
  {
   "cell_type": "code",
   "execution_count": null,
   "id": "1139a47d",
   "metadata": {},
   "outputs": [],
   "source": [
    "# Check for missing values\n",
    "print('Missing Values:\\n', df.isnull().sum())\n",
    "# Fill missing values in YEAR_REMOVED with 'N/A'\n",
    "df['YEAR_REMOVED'].fillna('N/A', inplace=True)"
   ]
  },
  {
   "cell_type": "markdown",
   "id": "1697effe",
   "metadata": {},
   "source": [
    "### Data Analysis\n",
    "We'll perform some basic analysis and visualizations to understand the data better."
   ]
  },
  {
   "cell_type": "markdown",
   "id": "d1475220",
   "metadata": {},
   "source": [
    "#### Bus Lanes by Borough"
   ]
  },
  {
   "cell_type": "code",
   "execution_count": null,
   "id": "c9b31a7d",
   "metadata": {},
   "outputs": [],
   "source": [
    "plt.figure(figsize=(12, 6))\n",
    "sns.countplot(y='BOROUGH', data=df, order=df['BOROUGH'].value_counts().index, palette='viridis')\n",
    "plt.title('Number of Bus Lanes by Borough')\n",
    "plt.xlabel('Count')\n",
    "plt.ylabel('Borough')\n",
    "plt.show()"
   ]
  },
  {
   "cell_type": "markdown",
   "id": "640cec22",
   "metadata": {},
   "source": [
    "#### Distribution of Lane Lengths"
   ]
  },
  {
   "cell_type": "code",
   "execution_count": null,
   "id": "d80e3307",
   "metadata": {},
   "outputs": [],
   "source": [
    "plt.figure(figsize=(12, 6))\n",
    "sns.histplot(df['LENGTH'], bins=30, kde=True, color='royalblue')\n",
    "plt.title('Distribution of Lane Lengths')\n",
    "plt.xlabel('Lane Length (meters)')\n",
    "plt.ylabel('Frequency')\n",
    "plt.show()"
   ]
  }
 ],
 "metadata": {
  "kernelspec": {
   "display_name": "Python 3 (ipykernel)",
   "language": "python",
   "name": "python3"
  },
  "language_info": {
   "codemirror_mode": {
    "name": "ipython",
    "version": 3
   },
   "file_extension": ".py",
   "mimetype": "text/x-python",
   "name": "python",
   "nbconvert_exporter": "python",
   "pygments_lexer": "ipython3",
   "version": "3.12.9"
  }
 },
 "nbformat": 4,
 "nbformat_minor": 5
}
